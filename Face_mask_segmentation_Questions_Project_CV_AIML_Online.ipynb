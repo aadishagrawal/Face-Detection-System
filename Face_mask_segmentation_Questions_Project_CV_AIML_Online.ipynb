{
 "cells": [
  {
   "cell_type": "markdown",
   "metadata": {
    "colab_type": "text",
    "id": "VvWl3ebqzCc1"
   },
   "source": [
    "                            ASSIGNMENT BY - AADISH AGRAWAL"
   ]
  },
  {
   "cell_type": "markdown",
   "metadata": {
    "colab_type": "text",
    "id": "NgR0j5310qqC"
   },
   "source": [
    "# Face Mask Segmentation\n",
    "Task is to predict the boundaries(mask) around the face in a given image."
   ]
  },
  {
   "cell_type": "markdown",
   "metadata": {
    "colab_type": "text",
    "id": "Aa0jyJzw091I"
   },
   "source": [
    "## Dataset\n",
    "Faces in images marked with bounding boxes. Have around 500 images with around 1100 faces manually tagged via bounding box."
   ]
  },
  {
   "cell_type": "markdown",
   "metadata": {
    "colab_type": "text",
    "id": "CjRTlPkp1LC2"
   },
   "source": [
    "### Mount Google drive if you are using google colab\n",
    "- We recommend using Google Colab as you can face memory issues and longer runtimes while running on local"
   ]
  },
  {
   "cell_type": "code",
   "execution_count": 1,
   "metadata": {
    "colab": {
     "base_uri": "https://localhost:8080/",
     "height": 122
    },
    "colab_type": "code",
    "id": "sBWMoTJ9cf3Z",
    "outputId": "dad393cf-7d69-4666-fa01-fc451772dc96"
   },
   "outputs": [
    {
     "name": "stdout",
     "output_type": "stream",
     "text": [
      "Go to this URL in a browser: https://accounts.google.com/o/oauth2/auth?client_id=947318989803-6bn6qk8qdgf4n4g3pfee6491hc0brc4i.apps.googleusercontent.com&redirect_uri=urn%3aietf%3awg%3aoauth%3a2.0%3aoob&response_type=code&scope=email%20https%3a%2f%2fwww.googleapis.com%2fauth%2fdocs.test%20https%3a%2f%2fwww.googleapis.com%2fauth%2fdrive%20https%3a%2f%2fwww.googleapis.com%2fauth%2fdrive.photos.readonly%20https%3a%2f%2fwww.googleapis.com%2fauth%2fpeopleapi.readonly\n",
      "\n",
      "Enter your authorization code:\n",
      "··········\n",
      "Mounted at /content/drive\n"
     ]
    }
   ],
   "source": [
    "from google.colab import drive\n",
    "drive.mount('/content/drive')"
   ]
  },
  {
   "cell_type": "code",
   "execution_count": 2,
   "metadata": {
    "colab": {
     "base_uri": "https://localhost:8080/",
     "height": 34
    },
    "colab_type": "code",
    "id": "Y1lBTfIw5Hf_",
    "outputId": "ec0adc6d-7d83-47f4-bd68-1dcd903d490c"
   },
   "outputs": [
    {
     "data": {
      "text/plain": [
       "'2.2.0'"
      ]
     },
     "execution_count": 2,
     "metadata": {
      "tags": []
     },
     "output_type": "execute_result"
    }
   ],
   "source": [
    "%tensorflow_version 2.x\n",
    "import tensorflow\n",
    "tensorflow.__version__"
   ]
  },
  {
   "cell_type": "code",
   "execution_count": 0,
   "metadata": {
    "colab": {},
    "colab_type": "code",
    "id": "ta9d0UZW5nfd"
   },
   "outputs": [],
   "source": [
    "# Initialize the random number generator\n",
    "import random\n",
    "random.seed(0)\n",
    "\n",
    "# Ignore the warnings\n",
    "import warnings\n",
    "warnings.filterwarnings(\"ignore\")"
   ]
  },
  {
   "cell_type": "markdown",
   "metadata": {
    "colab_type": "text",
    "id": "sO9mgMmp13sI"
   },
   "source": [
    "### Change current working directory to project folder (1 mark)"
   ]
  },
  {
   "cell_type": "code",
   "execution_count": 0,
   "metadata": {
    "colab": {},
    "colab_type": "code",
    "id": "TddMnf4D1-59"
   },
   "outputs": [],
   "source": [
    "import os\n",
    "\n",
    "path = '/content/drive/My Drive/Week28_ComputerVision5 - Advanced Computer Vision Project (Face Mask Segmentation)/'"
   ]
  },
  {
   "cell_type": "markdown",
   "metadata": {
    "colab_type": "text",
    "id": "3srplE-FEpKa"
   },
   "source": [
    "### Load the \"images.npy\" file (2 marks)\n",
    "- This file contains images with details of bounding boxes"
   ]
  },
  {
   "cell_type": "code",
   "execution_count": 0,
   "metadata": {
    "colab": {},
    "colab_type": "code",
    "id": "MqFE_tZDf0sM"
   },
   "outputs": [],
   "source": [
    "images_path = path + \"images.npy\"\n",
    "import numpy as np\n",
    "data = np.load(images_path,allow_pickle = True)"
   ]
  },
  {
   "cell_type": "markdown",
   "metadata": {
    "colab_type": "text",
    "id": "_SMP8zliFT7R"
   },
   "source": [
    "### Check one sample from the loaded \"images.npy\" file  (2 marks)\n",
    "Hint - print data[10][1] "
   ]
  },
  {
   "cell_type": "code",
   "execution_count": 6,
   "metadata": {
    "colab": {
     "base_uri": "https://localhost:8080/",
     "height": 54
    },
    "colab_type": "code",
    "id": "NoqNvPK-iXqG",
    "outputId": "0e6e7fc9-2b7f-4a44-bb75-18adad61ee41"
   },
   "outputs": [
    {
     "name": "stdout",
     "output_type": "stream",
     "text": [
      "[{'label': ['Face'], 'notes': '', 'points': [{'x': 0.48, 'y': 0.10385756676557864}, {'x': 0.7716666666666666, 'y': 0.6795252225519288}], 'imageWidth': 600, 'imageHeight': 337}]\n"
     ]
    }
   ],
   "source": [
    "print (data[10][1])"
   ]
  },
  {
   "cell_type": "markdown",
   "metadata": {
    "colab_type": "text",
    "id": "m94G4p3CE5Cj"
   },
   "source": [
    "### Set image dimensions   (2 marks)\n",
    "- Initialize image height, image width with value: 224 "
   ]
  },
  {
   "cell_type": "code",
   "execution_count": 0,
   "metadata": {
    "colab": {},
    "colab_type": "code",
    "id": "kuZmtOASevDo"
   },
   "outputs": [],
   "source": [
    "IMAGE_WIDTH = 224\n",
    "IMAGE_HEIGHT =224\n",
    "ALPHA = 1 \n",
    "HEIGHT_CELLS = 112\n",
    "WIDTH_CELLS = 112"
   ]
  },
  {
   "cell_type": "markdown",
   "metadata": {
    "colab_type": "text",
    "id": "wY6FEsCjG47s"
   },
   "source": [
    "### Create features and labels\n",
    "- Here feature is the image\n",
    "- The label is the mask\n",
    "- Images will be stored in \"X_train\" array\n",
    "- Masks will be stored in \"masks\" array"
   ]
  },
  {
   "cell_type": "code",
   "execution_count": 0,
   "metadata": {
    "colab": {},
    "colab_type": "code",
    "id": "XjCT9EVTgAvr"
   },
   "outputs": [],
   "source": [
    "import cv2\n",
    "from tensorflow.keras.applications.mobilenet import preprocess_input\n",
    "\n",
    "masks = np.zeros((int(data.shape[0]), HEIGHT_CELLS, WIDTH_CELLS))\n",
    "X_train = np.zeros((int(data.shape[0]), IMAGE_HEIGHT, IMAGE_WIDTH, 3))\n",
    "for index in range(data.shape[0]):\n",
    "    img = data[index][0]\n",
    "    img = cv2.resize(img, dsize=(IMAGE_HEIGHT, IMAGE_WIDTH), interpolation=cv2.INTER_CUBIC)\n",
    "    try:\n",
    "      img = img[:, :, :3]\n",
    "    except:\n",
    "      continue\n",
    "    X_train[index] = preprocess_input(np.array(img, dtype=np.float32))\n",
    "    for i in data[index][1]:\n",
    "        x1 = int(i[\"points\"][0]['x'] * WIDTH_CELLS)\n",
    "        x2 = int(i[\"points\"][1]['x'] * WIDTH_CELLS)\n",
    "        y1 = int(i[\"points\"][0]['y'] * HEIGHT_CELLS)\n",
    "        y2 = int(i[\"points\"][1]['y'] * HEIGHT_CELLS)\n",
    "        masks[index][y1:y2, x1:x2] = 1\n",
    "        "
   ]
  },
  {
   "cell_type": "markdown",
   "metadata": {
    "colab_type": "text",
    "id": "N3AYbP79bFtJ"
   },
   "source": [
    "### Print the shape of X_train and mask array  (2 marks)"
   ]
  },
  {
   "cell_type": "code",
   "execution_count": 9,
   "metadata": {
    "colab": {
     "base_uri": "https://localhost:8080/",
     "height": 34
    },
    "colab_type": "code",
    "id": "3PIRaEdWIjDa",
    "outputId": "58985533-31d6-4816-ce85-e16240a3cb00"
   },
   "outputs": [
    {
     "data": {
      "text/plain": [
       "(409, 224, 224, 3)"
      ]
     },
     "execution_count": 9,
     "metadata": {
      "tags": []
     },
     "output_type": "execute_result"
    }
   ],
   "source": [
    "X_train.shape"
   ]
  },
  {
   "cell_type": "code",
   "execution_count": 10,
   "metadata": {
    "colab": {
     "base_uri": "https://localhost:8080/",
     "height": 34
    },
    "colab_type": "code",
    "id": "Gw6uH5DxgI_r",
    "outputId": "adfa6ab9-55b0-453f-a5f3-8900758b678e"
   },
   "outputs": [
    {
     "data": {
      "text/plain": [
       "(409, 112, 112)"
      ]
     },
     "execution_count": 10,
     "metadata": {
      "tags": []
     },
     "output_type": "execute_result"
    }
   ],
   "source": [
    "masks.shape"
   ]
  },
  {
   "cell_type": "markdown",
   "metadata": {
    "colab_type": "text",
    "id": "R4wgkWq1bk5F"
   },
   "source": [
    "### Print a sample image and image array"
   ]
  },
  {
   "cell_type": "code",
   "execution_count": 11,
   "metadata": {
    "colab": {
     "base_uri": "https://localhost:8080/",
     "height": 1000
    },
    "colab_type": "code",
    "id": "qfRZjQufj0N9",
    "outputId": "daac5dc6-95c2-4717-bbe6-d0c7c79e7aaf"
   },
   "outputs": [
    {
     "name": "stderr",
     "output_type": "stream",
     "text": [
      "Clipping input data to the valid range for imshow with RGB data ([0..1] for floats or [0..255] for integers).\n"
     ]
    },
    {
     "name": "stdout",
     "output_type": "stream",
     "text": [
      "[[[-0.98431373 -0.98431373 -0.98431373]\n",
      "  [-0.98431373 -0.98431373 -0.98431373]\n",
      "  [-0.98431373 -0.98431373 -0.98431373]\n",
      "  ...\n",
      "  [-1.         -1.         -1.        ]\n",
      "  [-1.         -1.         -1.        ]\n",
      "  [-1.         -1.         -1.        ]]\n",
      "\n",
      " [[-0.98431373 -0.98431373 -0.98431373]\n",
      "  [-0.98431373 -0.98431373 -0.98431373]\n",
      "  [-0.98431373 -0.98431373 -0.98431373]\n",
      "  ...\n",
      "  [-1.         -1.         -1.        ]\n",
      "  [-1.         -1.         -1.        ]\n",
      "  [-1.         -1.         -1.        ]]\n",
      "\n",
      " [[-0.98431373 -0.98431373 -0.98431373]\n",
      "  [-0.98431373 -0.98431373 -0.98431373]\n",
      "  [-0.98431373 -0.98431373 -0.98431373]\n",
      "  ...\n",
      "  [-1.         -1.         -1.        ]\n",
      "  [-1.         -1.         -1.        ]\n",
      "  [-1.         -1.         -1.        ]]\n",
      "\n",
      " ...\n",
      "\n",
      " [[-1.         -1.         -1.        ]\n",
      "  [-1.         -1.         -1.        ]\n",
      "  [-1.         -1.         -1.        ]\n",
      "  ...\n",
      "  [-0.96862745 -0.96862745 -0.96862745]\n",
      "  [-0.96078432 -0.96078432 -0.96078432]\n",
      "  [-0.96078432 -0.96078432 -0.96078432]]\n",
      "\n",
      " [[-1.         -1.         -1.        ]\n",
      "  [-1.         -1.         -1.        ]\n",
      "  [-1.         -1.         -1.        ]\n",
      "  ...\n",
      "  [-0.96862745 -0.96862745 -0.96862745]\n",
      "  [-0.96078432 -0.96078432 -0.96078432]\n",
      "  [-0.95294118 -0.95294118 -0.95294118]]\n",
      "\n",
      " [[-1.         -1.         -1.        ]\n",
      "  [-1.         -1.         -1.        ]\n",
      "  [-1.         -1.         -1.        ]\n",
      "  ...\n",
      "  [-0.97647059 -0.97647059 -0.97647059]\n",
      "  [-0.96862745 -0.96862745 -0.96862745]\n",
      "  [-0.96078432 -0.96078432 -0.96078432]]]\n"
     ]
    },
    {
     "data": {
      "text/plain": [
       "<matplotlib.image.AxesImage at 0x7fefdddd62e8>"
      ]
     },
     "execution_count": 11,
     "metadata": {
      "tags": []
     },
     "output_type": "execute_result"
    },
    {
     "data": {
      "image/png": "[encoded data removed]",
      "text/plain": [
       "<Figure size 432x288 with 1 Axes>"
      ]
     },
     "metadata": {
      "needs_background": "light",
      "tags": []
     },
     "output_type": "display_data"
    }
   ],
   "source": [
    "from matplotlib import pyplot\n",
    "n = 10\n",
    "print(X_train[n])\n",
    "pyplot.imshow(X_train[n])"
   ]
  },
  {
   "cell_type": "code",
   "execution_count": 12,
   "metadata": {
    "colab": {
     "base_uri": "https://localhost:8080/",
     "height": 285
    },
    "colab_type": "code",
    "id": "983gGKcwlSe8",
    "outputId": "f864b0f3-03a7-4cac-9e99-f657813e5ef1"
   },
   "outputs": [
    {
     "data": {
      "text/plain": [
       "<matplotlib.image.AxesImage at 0x7fefe73ea358>"
      ]
     },
     "execution_count": 12,
     "metadata": {
      "tags": []
     },
     "output_type": "execute_result"
    },
    {
     "data": {
      "image/png": "[encoded data removed]",
      "text/plain": [
       "<Figure size 432x288 with 1 Axes>"
      ]
     },
     "metadata": {
      "needs_background": "light",
      "tags": []
     },
     "output_type": "display_data"
    }
   ],
   "source": [
    "pyplot.imshow(masks[n])"
   ]
  },
  {
   "cell_type": "markdown",
   "metadata": {
    "colab_type": "text",
    "id": "Z0Qa1UOue9TE"
   },
   "source": [
    "## Create the model (10 marks)\n",
    "- Add MobileNet as model with below parameter values\n",
    "  - input_shape: IMAGE_HEIGHT, IMAGE_WIDTH, 3\n",
    "  - include_top: False\n",
    "  - alpha: 1.0\n",
    "  - weights: \"imagenet\"\n",
    "- Add UNET architecture layers\n",
    "  - This is the trickiest part of the project, you need to research and implement it correctly"
   ]
  },
  {
   "cell_type": "code",
   "execution_count": 0,
   "metadata": {
    "colab": {},
    "colab_type": "code",
    "id": "BTVYOvANrUVx"
   },
   "outputs": [],
   "source": [
    "from tensorflow.keras.applications.mobilenet import MobileNet\n",
    "from tensorflow.keras.layers import Concatenate, UpSampling2D, Conv2D, Reshape\n",
    "from tensorflow.keras.models import Model\n",
    "\n",
    "\n",
    "\n",
    "def create_model(trainable=True):\n",
    "    model = MobileNet(input_shape=(IMAGE_HEIGHT, IMAGE_WIDTH, 3), include_top=False, alpha=ALPHA, weights=\"imagenet\")\n",
    "    for layer in model.layers:\n",
    "        layer.trainable = trainable\n",
    "\n",
    "    block1 = model.get_layer(\"conv_pw_1_relu\").output\n",
    "    block2 = model.get_layer(\"conv_pw_3_relu\").output\n",
    "    block3 = model.get_layer(\"conv_pw_5_relu\").output\n",
    "    block4 = model.get_layer(\"conv_pw_11_relu\").output\n",
    "    block5 = model.get_layer(\"conv_pw_13_relu\").output\n",
    "\n",
    "    x = Concatenate()([UpSampling2D()(block5), block4])\n",
    "    x = Concatenate()([UpSampling2D()(x), block3])\n",
    "    x = Concatenate()([UpSampling2D()(x), block2])\n",
    "    x = Concatenate()([UpSampling2D()(x), block1])\n",
    "\n",
    "    x = Conv2D(1, kernel_size=1, activation=\"sigmoid\")(x)\n",
    "    x = Reshape((HEIGHT_CELLS, WIDTH_CELLS))(x)\n",
    "\n",
    "    return Model(inputs=model.input, outputs=x)"
   ]
  },
  {
   "cell_type": "markdown",
   "metadata": {
    "colab_type": "text",
    "id": "_snZ9o0ZBAiv"
   },
   "source": [
    "### Call the create_model function"
   ]
  },
  {
   "cell_type": "code",
   "execution_count": 15,
   "metadata": {
    "colab": {
     "base_uri": "https://localhost:8080/",
     "height": 1000
    },
    "colab_type": "code",
    "id": "9TfSSP51uPoO",
    "outputId": "b3e455df-cba7-4e47-ef87-6ceaed1484c5"
   },
   "outputs": [
    {
     "name": "stdout",
     "output_type": "stream",
     "text": [
      "Downloading data from https://storage.googleapis.com/tensorflow/keras-applications/mobilenet/mobilenet_1_0_224_tf_no_top.h5\n",
      "17227776/17225924 [==============================] - 0s 0us/step\n",
      "Model: \"model\"\n",
      "__________________________________________________________________________________________________\n",
      "Layer (type)                    Output Shape         Param #     Connected to                     \n",
      "==================================================================================================\n",
      "input_1 (InputLayer)            [(None, 224, 224, 3) 0                                            \n",
      "__________________________________________________________________________________________________\n",
      "conv1_pad (ZeroPadding2D)       (None, 225, 225, 3)  0           input_1[0][0]                    \n",
      "__________________________________________________________________________________________________\n",
      "conv1 (Conv2D)                  (None, 112, 112, 32) 864         conv1_pad[0][0]                  \n",
      "__________________________________________________________________________________________________\n",
      "conv1_bn (BatchNormalization)   (None, 112, 112, 32) 128         conv1[0][0]                      \n",
      "__________________________________________________________________________________________________\n",
      "conv1_relu (ReLU)               (None, 112, 112, 32) 0           conv1_bn[0][0]                   \n",
      "__________________________________________________________________________________________________\n",
      "conv_dw_1 (DepthwiseConv2D)     (None, 112, 112, 32) 288         conv1_relu[0][0]                 \n",
      "__________________________________________________________________________________________________\n",
      "conv_dw_1_bn (BatchNormalizatio (None, 112, 112, 32) 128         conv_dw_1[0][0]                  \n",
      "__________________________________________________________________________________________________\n",
      "conv_dw_1_relu (ReLU)           (None, 112, 112, 32) 0           conv_dw_1_bn[0][0]               \n",
      "__________________________________________________________________________________________________\n",
      "conv_pw_1 (Conv2D)              (None, 112, 112, 64) 2048        conv_dw_1_relu[0][0]             \n",
      "__________________________________________________________________________________________________\n",
      "conv_pw_1_bn (BatchNormalizatio (None, 112, 112, 64) 256         conv_pw_1[0][0]                  \n",
      "__________________________________________________________________________________________________\n",
      "conv_pw_1_relu (ReLU)           (None, 112, 112, 64) 0           conv_pw_1_bn[0][0]               \n",
      "__________________________________________________________________________________________________\n",
      "conv_pad_2 (ZeroPadding2D)      (None, 113, 113, 64) 0           conv_pw_1_relu[0][0]             \n",
      "__________________________________________________________________________________________________\n",
      "conv_dw_2 (DepthwiseConv2D)     (None, 56, 56, 64)   576         conv_pad_2[0][0]                 \n",
      "__________________________________________________________________________________________________\n",
      "conv_dw_2_bn (BatchNormalizatio (None, 56, 56, 64)   256         conv_dw_2[0][0]                  \n",
      "__________________________________________________________________________________________________\n",
      "conv_dw_2_relu (ReLU)           (None, 56, 56, 64)   0           conv_dw_2_bn[0][0]               \n",
      "__________________________________________________________________________________________________\n",
      "conv_pw_2 (Conv2D)              (None, 56, 56, 128)  8192        conv_dw_2_relu[0][0]             \n",
      "__________________________________________________________________________________________________\n",
      "conv_pw_2_bn (BatchNormalizatio (None, 56, 56, 128)  512         conv_pw_2[0][0]                  \n",
      "__________________________________________________________________________________________________\n",
      "conv_pw_2_relu (ReLU)           (None, 56, 56, 128)  0           conv_pw_2_bn[0][0]               \n",
      "__________________________________________________________________________________________________\n",
      "conv_dw_3 (DepthwiseConv2D)     (None, 56, 56, 128)  1152        conv_pw_2_relu[0][0]             \n",
      "__________________________________________________________________________________________________\n",
      "conv_dw_3_bn (BatchNormalizatio (None, 56, 56, 128)  512         conv_dw_3[0][0]                  \n",
      "__________________________________________________________________________________________________\n",
      "conv_dw_3_relu (ReLU)           (None, 56, 56, 128)  0           conv_dw_3_bn[0][0]               \n",
      "__________________________________________________________________________________________________\n",
      "conv_pw_3 (Conv2D)              (None, 56, 56, 128)  16384       conv_dw_3_relu[0][0]             \n",
      "__________________________________________________________________________________________________\n",
      "conv_pw_3_bn (BatchNormalizatio (None, 56, 56, 128)  512         conv_pw_3[0][0]                  \n",
      "__________________________________________________________________________________________________\n",
      "conv_pw_3_relu (ReLU)           (None, 56, 56, 128)  0           conv_pw_3_bn[0][0]               \n",
      "__________________________________________________________________________________________________\n",
      "conv_pad_4 (ZeroPadding2D)      (None, 57, 57, 128)  0           conv_pw_3_relu[0][0]             \n",
      "__________________________________________________________________________________________________\n",
      "conv_dw_4 (DepthwiseConv2D)     (None, 28, 28, 128)  1152        conv_pad_4[0][0]                 \n",
      "__________________________________________________________________________________________________\n",
      "conv_dw_4_bn (BatchNormalizatio (None, 28, 28, 128)  512         conv_dw_4[0][0]                  \n",
      "__________________________________________________________________________________________________\n",
      "conv_dw_4_relu (ReLU)           (None, 28, 28, 128)  0           conv_dw_4_bn[0][0]               \n",
      "__________________________________________________________________________________________________\n",
      "conv_pw_4 (Conv2D)              (None, 28, 28, 256)  32768       conv_dw_4_relu[0][0]             \n",
      "__________________________________________________________________________________________________\n",
      "conv_pw_4_bn (BatchNormalizatio (None, 28, 28, 256)  1024        conv_pw_4[0][0]                  \n",
      "__________________________________________________________________________________________________\n",
      "conv_pw_4_relu (ReLU)           (None, 28, 28, 256)  0           conv_pw_4_bn[0][0]               \n",
      "__________________________________________________________________________________________________\n",
      "conv_dw_5 (DepthwiseConv2D)     (None, 28, 28, 256)  2304        conv_pw_4_relu[0][0]             \n",
      "__________________________________________________________________________________________________\n",
      "conv_dw_5_bn (BatchNormalizatio (None, 28, 28, 256)  1024        conv_dw_5[0][0]                  \n",
      "__________________________________________________________________________________________________\n",
      "conv_dw_5_relu (ReLU)           (None, 28, 28, 256)  0           conv_dw_5_bn[0][0]               \n",
      "__________________________________________________________________________________________________\n",
      "conv_pw_5 (Conv2D)              (None, 28, 28, 256)  65536       conv_dw_5_relu[0][0]             \n",
      "__________________________________________________________________________________________________\n",
      "conv_pw_5_bn (BatchNormalizatio (None, 28, 28, 256)  1024        conv_pw_5[0][0]                  \n",
      "__________________________________________________________________________________________________\n",
      "conv_pw_5_relu (ReLU)           (None, 28, 28, 256)  0           conv_pw_5_bn[0][0]               \n",
      "__________________________________________________________________________________________________\n",
      "conv_pad_6 (ZeroPadding2D)      (None, 29, 29, 256)  0           conv_pw_5_relu[0][0]             \n",
      "__________________________________________________________________________________________________\n",
      "conv_dw_6 (DepthwiseConv2D)     (None, 14, 14, 256)  2304        conv_pad_6[0][0]                 \n",
      "__________________________________________________________________________________________________\n",
      "conv_dw_6_bn (BatchNormalizatio (None, 14, 14, 256)  1024        conv_dw_6[0][0]                  \n",
      "__________________________________________________________________________________________________\n",
      "conv_dw_6_relu (ReLU)           (None, 14, 14, 256)  0           conv_dw_6_bn[0][0]               \n",
      "__________________________________________________________________________________________________\n",
      "conv_pw_6 (Conv2D)              (None, 14, 14, 512)  131072      conv_dw_6_relu[0][0]             \n",
      "__________________________________________________________________________________________________\n",
      "conv_pw_6_bn (BatchNormalizatio (None, 14, 14, 512)  2048        conv_pw_6[0][0]                  \n",
      "__________________________________________________________________________________________________\n",
      "conv_pw_6_relu (ReLU)           (None, 14, 14, 512)  0           conv_pw_6_bn[0][0]               \n",
      "__________________________________________________________________________________________________\n",
      "conv_dw_7 (DepthwiseConv2D)     (None, 14, 14, 512)  4608        conv_pw_6_relu[0][0]             \n",
      "__________________________________________________________________________________________________\n",
      "conv_dw_7_bn (BatchNormalizatio (None, 14, 14, 512)  2048        conv_dw_7[0][0]                  \n",
      "__________________________________________________________________________________________________\n",
      "conv_dw_7_relu (ReLU)           (None, 14, 14, 512)  0           conv_dw_7_bn[0][0]               \n",
      "__________________________________________________________________________________________________\n",
      "conv_pw_7 (Conv2D)              (None, 14, 14, 512)  262144      conv_dw_7_relu[0][0]             \n",
      "__________________________________________________________________________________________________\n",
      "conv_pw_7_bn (BatchNormalizatio (None, 14, 14, 512)  2048        conv_pw_7[0][0]                  \n",
      "__________________________________________________________________________________________________\n",
      "conv_pw_7_relu (ReLU)           (None, 14, 14, 512)  0           conv_pw_7_bn[0][0]               \n",
      "__________________________________________________________________________________________________\n",
      "conv_dw_8 (DepthwiseConv2D)     (None, 14, 14, 512)  4608        conv_pw_7_relu[0][0]             \n",
      "__________________________________________________________________________________________________\n",
      "conv_dw_8_bn (BatchNormalizatio (None, 14, 14, 512)  2048        conv_dw_8[0][0]                  \n",
      "__________________________________________________________________________________________________\n",
      "conv_dw_8_relu (ReLU)           (None, 14, 14, 512)  0           conv_dw_8_bn[0][0]               \n",
      "__________________________________________________________________________________________________\n",
      "conv_pw_8 (Conv2D)              (None, 14, 14, 512)  262144      conv_dw_8_relu[0][0]             \n",
      "__________________________________________________________________________________________________\n",
      "conv_pw_8_bn (BatchNormalizatio (None, 14, 14, 512)  2048        conv_pw_8[0][0]                  \n",
      "__________________________________________________________________________________________________\n",
      "conv_pw_8_relu (ReLU)           (None, 14, 14, 512)  0           conv_pw_8_bn[0][0]               \n",
      "__________________________________________________________________________________________________\n",
      "conv_dw_9 (DepthwiseConv2D)     (None, 14, 14, 512)  4608        conv_pw_8_relu[0][0]             \n",
      "__________________________________________________________________________________________________\n",
      "conv_dw_9_bn (BatchNormalizatio (None, 14, 14, 512)  2048        conv_dw_9[0][0]                  \n",
      "__________________________________________________________________________________________________\n",
      "conv_dw_9_relu (ReLU)           (None, 14, 14, 512)  0           conv_dw_9_bn[0][0]               \n",
      "__________________________________________________________________________________________________\n",
      "conv_pw_9 (Conv2D)              (None, 14, 14, 512)  262144      conv_dw_9_relu[0][0]             \n",
      "__________________________________________________________________________________________________\n",
      "conv_pw_9_bn (BatchNormalizatio (None, 14, 14, 512)  2048        conv_pw_9[0][0]                  \n",
      "__________________________________________________________________________________________________\n",
      "conv_pw_9_relu (ReLU)           (None, 14, 14, 512)  0           conv_pw_9_bn[0][0]               \n",
      "__________________________________________________________________________________________________\n",
      "conv_dw_10 (DepthwiseConv2D)    (None, 14, 14, 512)  4608        conv_pw_9_relu[0][0]             \n",
      "__________________________________________________________________________________________________\n",
      "conv_dw_10_bn (BatchNormalizati (None, 14, 14, 512)  2048        conv_dw_10[0][0]                 \n",
      "__________________________________________________________________________________________________\n",
      "conv_dw_10_relu (ReLU)          (None, 14, 14, 512)  0           conv_dw_10_bn[0][0]              \n",
      "__________________________________________________________________________________________________\n",
      "conv_pw_10 (Conv2D)             (None, 14, 14, 512)  262144      conv_dw_10_relu[0][0]            \n",
      "__________________________________________________________________________________________________\n",
      "conv_pw_10_bn (BatchNormalizati (None, 14, 14, 512)  2048        conv_pw_10[0][0]                 \n",
      "__________________________________________________________________________________________________\n",
      "conv_pw_10_relu (ReLU)          (None, 14, 14, 512)  0           conv_pw_10_bn[0][0]              \n",
      "__________________________________________________________________________________________________\n",
      "conv_dw_11 (DepthwiseConv2D)    (None, 14, 14, 512)  4608        conv_pw_10_relu[0][0]            \n",
      "__________________________________________________________________________________________________\n",
      "conv_dw_11_bn (BatchNormalizati (None, 14, 14, 512)  2048        conv_dw_11[0][0]                 \n",
      "__________________________________________________________________________________________________\n",
      "conv_dw_11_relu (ReLU)          (None, 14, 14, 512)  0           conv_dw_11_bn[0][0]              \n",
      "__________________________________________________________________________________________________\n",
      "conv_pw_11 (Conv2D)             (None, 14, 14, 512)  262144      conv_dw_11_relu[0][0]            \n",
      "__________________________________________________________________________________________________\n",
      "conv_pw_11_bn (BatchNormalizati (None, 14, 14, 512)  2048        conv_pw_11[0][0]                 \n",
      "__________________________________________________________________________________________________\n",
      "conv_pw_11_relu (ReLU)          (None, 14, 14, 512)  0           conv_pw_11_bn[0][0]              \n",
      "__________________________________________________________________________________________________\n",
      "conv_pad_12 (ZeroPadding2D)     (None, 15, 15, 512)  0           conv_pw_11_relu[0][0]            \n",
      "__________________________________________________________________________________________________\n",
      "conv_dw_12 (DepthwiseConv2D)    (None, 7, 7, 512)    4608        conv_pad_12[0][0]                \n",
      "__________________________________________________________________________________________________\n",
      "conv_dw_12_bn (BatchNormalizati (None, 7, 7, 512)    2048        conv_dw_12[0][0]                 \n",
      "__________________________________________________________________________________________________\n",
      "conv_dw_12_relu (ReLU)          (None, 7, 7, 512)    0           conv_dw_12_bn[0][0]              \n",
      "__________________________________________________________________________________________________\n",
      "conv_pw_12 (Conv2D)             (None, 7, 7, 1024)   524288      conv_dw_12_relu[0][0]            \n",
      "__________________________________________________________________________________________________\n",
      "conv_pw_12_bn (BatchNormalizati (None, 7, 7, 1024)   4096        conv_pw_12[0][0]                 \n",
      "__________________________________________________________________________________________________\n",
      "conv_pw_12_relu (ReLU)          (None, 7, 7, 1024)   0           conv_pw_12_bn[0][0]              \n",
      "__________________________________________________________________________________________________\n",
      "conv_dw_13 (DepthwiseConv2D)    (None, 7, 7, 1024)   9216        conv_pw_12_relu[0][0]            \n",
      "__________________________________________________________________________________________________\n",
      "conv_dw_13_bn (BatchNormalizati (None, 7, 7, 1024)   4096        conv_dw_13[0][0]                 \n",
      "__________________________________________________________________________________________________\n",
      "conv_dw_13_relu (ReLU)          (None, 7, 7, 1024)   0           conv_dw_13_bn[0][0]              \n",
      "__________________________________________________________________________________________________\n",
      "conv_pw_13 (Conv2D)             (None, 7, 7, 1024)   1048576     conv_dw_13_relu[0][0]            \n",
      "__________________________________________________________________________________________________\n",
      "conv_pw_13_bn (BatchNormalizati (None, 7, 7, 1024)   4096        conv_pw_13[0][0]                 \n",
      "__________________________________________________________________________________________________\n",
      "conv_pw_13_relu (ReLU)          (None, 7, 7, 1024)   0           conv_pw_13_bn[0][0]              \n",
      "__________________________________________________________________________________________________\n",
      "up_sampling2d (UpSampling2D)    (None, 14, 14, 1024) 0           conv_pw_13_relu[0][0]            \n",
      "__________________________________________________________________________________________________\n",
      "concatenate (Concatenate)       (None, 14, 14, 1536) 0           up_sampling2d[0][0]              \n",
      "                                                                 conv_pw_11_relu[0][0]            \n",
      "__________________________________________________________________________________________________\n",
      "up_sampling2d_1 (UpSampling2D)  (None, 28, 28, 1536) 0           concatenate[0][0]                \n",
      "__________________________________________________________________________________________________\n",
      "concatenate_1 (Concatenate)     (None, 28, 28, 1792) 0           up_sampling2d_1[0][0]            \n",
      "                                                                 conv_pw_5_relu[0][0]             \n",
      "__________________________________________________________________________________________________\n",
      "up_sampling2d_2 (UpSampling2D)  (None, 56, 56, 1792) 0           concatenate_1[0][0]              \n",
      "__________________________________________________________________________________________________\n",
      "concatenate_2 (Concatenate)     (None, 56, 56, 1920) 0           up_sampling2d_2[0][0]            \n",
      "                                                                 conv_pw_3_relu[0][0]             \n",
      "__________________________________________________________________________________________________\n",
      "up_sampling2d_3 (UpSampling2D)  (None, 112, 112, 192 0           concatenate_2[0][0]              \n",
      "__________________________________________________________________________________________________\n",
      "concatenate_3 (Concatenate)     (None, 112, 112, 198 0           up_sampling2d_3[0][0]            \n",
      "                                                                 conv_pw_1_relu[0][0]             \n",
      "__________________________________________________________________________________________________\n",
      "conv2d (Conv2D)                 (None, 112, 112, 1)  1985        concatenate_3[0][0]              \n",
      "__________________________________________________________________________________________________\n",
      "reshape (Reshape)               (None, 112, 112)     0           conv2d[0][0]                     \n",
      "==================================================================================================\n",
      "Total params: 3,230,849\n",
      "Trainable params: 1,985\n",
      "Non-trainable params: 3,228,864\n",
      "__________________________________________________________________________________________________\n"
     ]
    }
   ],
   "source": [
    "# Give trainable=False as argument, if you want to freeze lower layers for fast training (but low accuracy)\n",
    "model = create_model(False)\n",
    "\n",
    "# Print summary\n",
    "model.summary()"
   ]
  },
  {
   "cell_type": "markdown",
   "metadata": {
    "colab_type": "text",
    "id": "2spcE4TvfEZw"
   },
   "source": [
    "### Define dice coefficient function (10 marks)\n",
    "- Create a function to calculate dice coefficient\n"
   ]
  },
  {
   "cell_type": "code",
   "execution_count": 0,
   "metadata": {
    "colab": {},
    "colab_type": "code",
    "id": "8H8aViXZuWz1"
   },
   "outputs": [],
   "source": [
    "def dice_coefficient(y_true, y_pred):\n",
    "    numerator = 2 * tensorflow.reduce_sum(y_true * y_pred)\n",
    "    denominator = tensorflow.reduce_sum(y_true + y_pred)\n",
    "\n",
    "    return numerator / (denominator + tensorflow.keras.backend.epsilon())    "
   ]
  },
  {
   "cell_type": "markdown",
   "metadata": {
    "colab_type": "text",
    "id": "Nkp5SDM1fIu2"
   },
   "source": [
    "### Define loss"
   ]
  },
  {
   "cell_type": "code",
   "execution_count": 0,
   "metadata": {
    "colab": {},
    "colab_type": "code",
    "id": "FEOVfs19KVLv"
   },
   "outputs": [],
   "source": [
    "from tensorflow.keras.losses import binary_crossentropy\n",
    "from tensorflow.keras.backend import log, epsilon\n",
    "def loss(y_true, y_pred):\n",
    "    return binary_crossentropy(y_true, y_pred) - log(dice_coefficient(y_true, y_pred) + epsilon())"
   ]
  },
  {
   "cell_type": "markdown",
   "metadata": {
    "colab_type": "text",
    "id": "Thltv_akfOMS"
   },
   "source": [
    "### Compile the model (3 marks)\n",
    "- Complie the model using below parameters\n",
    "  - loss: use the loss function defined above\n",
    "  - optimizers: use Adam optimizer\n",
    "  - metrics: use dice_coefficient function defined above"
   ]
  },
  {
   "cell_type": "code",
   "execution_count": 0,
   "metadata": {
    "colab": {},
    "colab_type": "code",
    "id": "atPb8xm2qkK5"
   },
   "outputs": [],
   "source": [
    "from tensorflow.keras.optimizers import Adam\n",
    "\n",
    "optimizer = Adam(lr=1e-4, beta_1=0.9, beta_2=0.999, epsilon=None, decay=0.0, amsgrad=False)\n",
    "model.compile(loss=loss, optimizer=optimizer, metrics=[dice_coefficient])"
   ]
  },
  {
   "cell_type": "markdown",
   "metadata": {
    "colab_type": "text",
    "id": "VTumZyg0fuVy"
   },
   "source": [
    "### Define checkpoint and earlystopping"
   ]
  },
  {
   "cell_type": "code",
   "execution_count": 19,
   "metadata": {
    "colab": {
     "base_uri": "https://localhost:8080/",
     "height": 54
    },
    "colab_type": "code",
    "id": "QNlQHt8DMy7h",
    "outputId": "cccf7110-8884-4c97-dd49-c7cbcaea207a"
   },
   "outputs": [
    {
     "name": "stdout",
     "output_type": "stream",
     "text": [
      "WARNING:tensorflow:`period` argument is deprecated. Please use `save_freq` to specify the frequency in number of batches seen.\n"
     ]
    }
   ],
   "source": [
    "from tensorflow.keras.callbacks import ModelCheckpoint, EarlyStopping, ReduceLROnPlateau\n",
    "checkpoint = ModelCheckpoint(\"model-{loss:.2f}.h5\", monitor=\"loss\", verbose=1, save_best_only=True,\n",
    "                             save_weights_only=True, mode=\"min\", period=1)\n",
    "stop = EarlyStopping(monitor=\"loss\", patience=5, mode=\"min\")\n",
    "reduce_lr = ReduceLROnPlateau(monitor=\"loss\", factor=0.2, patience=5, min_lr=1e-6, verbose=1, mode=\"min\")"
   ]
  },
  {
   "cell_type": "markdown",
   "metadata": {
    "colab_type": "text",
    "id": "LxxbwvXEf07e"
   },
   "source": [
    "### Fit the model (3 marks)\n",
    "- Fit the model using below parameters\n",
    "  - epochs: you can decide\n",
    "  - batch_size: 1\n",
    "  - callbacks: checkpoint, reduce_lr, stop"
   ]
  },
  {
   "cell_type": "code",
   "execution_count": 22,
   "metadata": {
    "colab": {
     "base_uri": "https://localhost:8080/",
     "height": 714
    },
    "colab_type": "code",
    "id": "guFfKsEmq58j",
    "outputId": "2a1802dd-3b1b-4b2e-aa37-1cc9fdcf1d6a"
   },
   "outputs": [
    {
     "name": "stdout",
     "output_type": "stream",
     "text": [
      "Epoch 1/10\n",
      "407/409 [============================>.] - ETA: 0s - loss: 0.6819 - dice_coefficient: 0.6449\n",
      "Epoch 00001: loss did not improve from 0.68022\n",
      "409/409 [==============================] - 3s 8ms/step - loss: 0.6808 - dice_coefficient: 0.6453 - lr: 1.0000e-04\n",
      "Epoch 2/10\n",
      "406/409 [============================>.] - ETA: 0s - loss: 0.6817 - dice_coefficient: 0.6450\n",
      "Epoch 00002: loss did not improve from 0.68022\n",
      "409/409 [==============================] - 3s 8ms/step - loss: 0.6826 - dice_coefficient: 0.6448 - lr: 1.0000e-04\n",
      "Epoch 3/10\n",
      "405/409 [============================>.] - ETA: 0s - loss: 0.6808 - dice_coefficient: 0.6451\n",
      "Epoch 00003: loss improved from 0.68022 to 0.68000, saving model to model-0.68.h5\n",
      "409/409 [==============================] - 3s 8ms/step - loss: 0.6800 - dice_coefficient: 0.6457 - lr: 1.0000e-04\n",
      "Epoch 4/10\n",
      "405/409 [============================>.] - ETA: 0s - loss: 0.6794 - dice_coefficient: 0.6462\n",
      "Epoch 00004: loss improved from 0.68000 to 0.67805, saving model to model-0.68.h5\n",
      "409/409 [==============================] - 3s 8ms/step - loss: 0.6780 - dice_coefficient: 0.6464 - lr: 1.0000e-04\n",
      "Epoch 5/10\n",
      "407/409 [============================>.] - ETA: 0s - loss: 0.6755 - dice_coefficient: 0.6485\n",
      "Epoch 00005: loss improved from 0.67805 to 0.67733, saving model to model-0.68.h5\n",
      "409/409 [==============================] - 3s 8ms/step - loss: 0.6773 - dice_coefficient: 0.6472 - lr: 1.0000e-04\n",
      "Epoch 6/10\n",
      "406/409 [============================>.] - ETA: 0s - loss: 0.6785 - dice_coefficient: 0.6469\n",
      "Epoch 00006: loss did not improve from 0.67733\n",
      "409/409 [==============================] - 3s 8ms/step - loss: 0.6774 - dice_coefficient: 0.6472 - lr: 1.0000e-04\n",
      "Epoch 7/10\n",
      "406/409 [============================>.] - ETA: 0s - loss: 0.6771 - dice_coefficient: 0.6473\n",
      "Epoch 00007: loss improved from 0.67733 to 0.67605, saving model to model-0.68.h5\n",
      "409/409 [==============================] - 3s 8ms/step - loss: 0.6761 - dice_coefficient: 0.6475 - lr: 1.0000e-04\n",
      "Epoch 8/10\n",
      "406/409 [============================>.] - ETA: 0s - loss: 0.6748 - dice_coefficient: 0.6480\n",
      "Epoch 00008: loss improved from 0.67605 to 0.67476, saving model to model-0.67.h5\n",
      "409/409 [==============================] - 3s 8ms/step - loss: 0.6748 - dice_coefficient: 0.6481 - lr: 1.0000e-04\n",
      "Epoch 9/10\n",
      "407/409 [============================>.] - ETA: 0s - loss: 0.6735 - dice_coefficient: 0.6478\n",
      "Epoch 00009: loss did not improve from 0.67476\n",
      "409/409 [==============================] - 3s 8ms/step - loss: 0.6750 - dice_coefficient: 0.6481 - lr: 1.0000e-04\n",
      "Epoch 10/10\n",
      "405/409 [============================>.] - ETA: 0s - loss: 0.6765 - dice_coefficient: 0.6480\n",
      "Epoch 00010: loss did not improve from 0.67476\n",
      "409/409 [==============================] - 3s 8ms/step - loss: 0.6751 - dice_coefficient: 0.6484 - lr: 1.0000e-04\n"
     ]
    },
    {
     "data": {
      "text/plain": [
       "<tensorflow.python.keras.callbacks.History at 0x7fef69758f98>"
      ]
     },
     "execution_count": 22,
     "metadata": {
      "tags": []
     },
     "output_type": "execute_result"
    }
   ],
   "source": [
    "model.fit(X_train, masks, epochs=10, batch_size=1,  callbacks=[stop,checkpoint,reduce_lr])"
   ]
  },
  {
   "cell_type": "markdown",
   "metadata": {
    "colab_type": "text",
    "id": "5VtnuzlOf4uL"
   },
   "source": [
    "### Get the predicted mask for a sample image   (5 marks)"
   ]
  },
  {
   "cell_type": "code",
   "execution_count": 0,
   "metadata": {
    "colab": {},
    "colab_type": "code",
    "id": "o-CBCMysrchu"
   },
   "outputs": [],
   "source": [
    "import matplotlib.pyplot as plt\n",
    "n = 22\n",
    "sample_image = X_train[n]\n",
    "image = cv2.resize(sample_image, (IMAGE_WIDTH, IMAGE_HEIGHT))\n",
    "\n",
    "#Here if pred value is greater than 0.5 then make it 1 and then resize o/p\n",
    "pred_mask = cv2.resize(1.0*(model.predict(x=np.array([image]))[0] > 0.5), (IMAGE_WIDTH,IMAGE_HEIGHT))\n",
    "\n"
   ]
  },
  {
   "cell_type": "markdown",
   "metadata": {
    "colab_type": "text",
    "id": "fDIetz0HgA4R"
   },
   "source": [
    "### Impose the mask on the image (5 marks)"
   ]
  },
  {
   "cell_type": "code",
   "execution_count": 37,
   "metadata": {
    "colab": {
     "base_uri": "https://localhost:8080/",
     "height": 303
    },
    "colab_type": "code",
    "id": "MTAHGkb5xdzu",
    "outputId": "a4b33a9a-0b31-4626-a0c5-bb408ec71885"
   },
   "outputs": [
    {
     "name": "stderr",
     "output_type": "stream",
     "text": [
      "Clipping input data to the valid range for imshow with RGB data ([0..1] for floats or [0..255] for integers).\n"
     ]
    },
    {
     "data": {
      "text/plain": [
       "<matplotlib.image.AxesImage at 0x7fef687c2c50>"
      ]
     },
     "execution_count": 37,
     "metadata": {
      "tags": []
     },
     "output_type": "execute_result"
    },
    {
     "data": {
      "image/png": "[encoded data removed]",
      "text/plain": [
       "<Figure size 432x288 with 1 Axes>"
      ]
     },
     "metadata": {
      "needs_background": "light",
      "tags": []
     },
     "output_type": "display_data"
    }
   ],
   "source": [
    "image2 = image\n",
    "image2[:,:,0] = pred_mask*image[:,:,0]\n",
    "image2[:,:,1] = pred_mask*image[:,:,1]\n",
    "image2[:,:,2] = pred_mask*image[:,:,2]\n",
    "\n",
    "out_image = image2\n",
    "\n",
    "plt.imshow(out_image)\n",
    "\n"
   ]
  },
  {
   "cell_type": "code",
   "execution_count": 38,
   "metadata": {
    "colab": {
     "base_uri": "https://localhost:8080/",
     "height": 303
    },
    "colab_type": "code",
    "id": "1F-q7NOTU9nz",
    "outputId": "683b5f37-5b6d-457d-bcb2-17eee914e83d"
   },
   "outputs": [
    {
     "name": "stderr",
     "output_type": "stream",
     "text": [
      "Clipping input data to the valid range for imshow with RGB data ([0..1] for floats or [0..255] for integers).\n"
     ]
    },
    {
     "data": {
      "text/plain": [
       "<matplotlib.image.AxesImage at 0x7fef687276a0>"
      ]
     },
     "execution_count": 38,
     "metadata": {
      "tags": []
     },
     "output_type": "execute_result"
    },
    {
     "data": {
      "image/png": "[encoded data removed]",
      "text/plain": [
       "<Figure size 432x288 with 1 Axes>"
      ]
     },
     "metadata": {
      "needs_background": "light",
      "tags": []
     },
     "output_type": "display_data"
    }
   ],
   "source": [
    "plt.imshow(sample_image)"
   ]
  },
  {
   "cell_type": "code",
   "execution_count": 0,
   "metadata": {
    "colab": {},
    "colab_type": "code",
    "id": "PWzMpTsbVKXM"
   },
   "outputs": [],
   "source": []
  }
 ],
 "metadata": {
  "accelerator": "GPU",
  "colab": {
   "collapsed_sections": [],
   "name": "Face_mask_segmentation_Questions_Project_CV_AIML_Online.ipynb",
   "provenance": [],
   "toc_visible": true
  },
  "kernelspec": {
   "display_name": "Python 3",
   "language": "python",
   "name": "python3"
  },
  "language_info": {
   "codemirror_mode": {
    "name": "ipython",
    "version": 3
   },
   "file_extension": ".py",
   "mimetype": "text/x-python",
   "name": "python",
   "nbconvert_exporter": "python",
   "pygments_lexer": "ipython3",
   "version": "3.7.3"
  }
 },
 "nbformat": 4,
 "nbformat_minor": 1
}
